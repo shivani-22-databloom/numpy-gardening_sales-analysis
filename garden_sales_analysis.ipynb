{
 "cells": [
  {
   "cell_type": "markdown",
   "id": "4dcc4fc3",
   "metadata": {},
   "source": [
    "# 🌱 Garden Store Sales Analysis Using NumPy\n",
    "This project uses only **NumPy** to analyze sales data from a gardening store.  \n",
    "It demonstrates data cleaning, revenue calculation, stock alerting, and business insight extraction.<br>**Tools Used**: Python, NumPy, Jupyter Notebook  \n",
    "**Author**: *Shivani*\n",
    "\n",
    "We use `numpy.genfromtxt` to read mixed-type data (strings and numbers) from the CSV file."
   ]
  },
  {
   "cell_type": "markdown",
   "id": "435bac65",
   "metadata": {},
   "source": [
    "##   Import Libraries (Code)"
   ]
  },
  {
   "cell_type": "code",
   "execution_count": 12,
   "id": "a61012c4",
   "metadata": {},
   "outputs": [],
   "source": [
    "import numpy as np"
   ]
  },
  {
   "cell_type": "markdown",
   "id": "55d24509",
   "metadata": {},
   "source": [
    "## 📁 Step 1: Load the CSV File\n",
    "We use `numpy.genfromtxt` to read mixed-type data (strings and numbers) from the CSV file."
   ]
  },
  {
   "cell_type": "code",
   "execution_count": 10,
   "id": "e3772cfd",
   "metadata": {},
   "outputs": [
    {
     "data": {
      "text/plain": [
       "array([(101, 'Rose Plant', 'Plant', 150, 20, 0.1 ,  5, '2025-08-06'),\n",
       "       (102, 'Shovel', 'Tool', 300, 10, 0.05, 20, '2025-08-06'),\n",
       "       (103, 'Tulip Bulbs', 'Plant', 100, 25, 0.  ,  8, '2025-08-06'),\n",
       "       (104, 'Watering Can', 'Tool', 250,  8, 0.15, 15, '2025-08-06'),\n",
       "       (105, 'Organic Fertilizer', 'Fertilizer', 400, 15, 0.2 ,  6, '2025-08-06'),\n",
       "       (106, 'Gloves', 'Tool', 100, 12, 0.05, 25, '2025-08-06'),\n",
       "       (107, 'Cactus', 'Plant', 200, 18, 0.  ,  9, '2025-08-06'),\n",
       "       (108, 'Compost Bag', 'Fertilizer', 350, 10, 0.1 ,  7, '2025-08-06')],\n",
       "      dtype=[('ProductID', '<i4'), ('ProductName', '<U18'), ('Category', '<U10'), ('Price', '<i4'), ('QuantitySold', '<i4'), ('Discount', '<f8'), ('StockLeft', '<i4'), ('Date', '<U10')])"
      ]
     },
     "execution_count": 10,
     "metadata": {},
     "output_type": "execute_result"
    }
   ],
   "source": [
    "data = np.genfromtxt('garden_sales_data.csv', delimiter=',', names=True, dtype=None, encoding='utf-8')\n",
    "data"
   ]
  },
  {
   "cell_type": "markdown",
   "id": "4d9a7663",
   "metadata": {},
   "source": [
    "## 🧹 Step 2: Extract and Clean Data\n",
    "\n",
    "We extract individual fields and ensure they’re in usable format."
   ]
  },
  {
   "cell_type": "code",
   "execution_count": 13,
   "id": "63ae0b27",
   "metadata": {},
   "outputs": [],
   "source": [
    "#Extract Fields (Code)\n",
    "product_names = data['ProductName']\n",
    "categories = data['Category']\n",
    "prices = data['Price']\n",
    "quantities = data['QuantitySold']\n",
    "discounts = data['Discount']\n",
    "stock_left = data['StockLeft']"
   ]
  },
  {
   "cell_type": "markdown",
   "id": "9f7a2bd6",
   "metadata": {},
   "source": [
    "## 💰 Step 3: Calculate Revenue\n",
    "\n",
    "Revenue formula: `Price × QuantitySold × (1 - Discount)`"
   ]
  },
  {
   "cell_type": "code",
   "execution_count": 15,
   "id": "b31c4ce4",
   "metadata": {},
   "outputs": [
    {
     "name": "stdout",
     "output_type": "stream",
     "text": [
      "[2700. 2850. 2500. 1700. 4800. 1140. 3600. 3150.]\n"
     ]
    }
   ],
   "source": [
    "revenues = prices * quantities * (1-discounts)\n",
    "print(revenues)"
   ]
  },
  {
   "cell_type": "code",
   "execution_count": 21,
   "id": "0027594d",
   "metadata": {},
   "outputs": [
    {
     "name": "stdout",
     "output_type": "stream",
     "text": [
      "Rose Plant: ₹2700.00\n",
      "Shovel: ₹2850.00\n",
      "Tulip Bulbs: ₹2500.00\n",
      "Watering Can: ₹1700.00\n",
      "Organic Fertilizer: ₹4800.00\n",
      "Gloves: ₹1140.00\n",
      "Cactus: ₹3600.00\n",
      "Compost Bag: ₹3150.00\n"
     ]
    }
   ],
   "source": [
    "for i in range(len(product_names)):\n",
    "    print(f\"{product_names[i]}: ₹{revenues[i]:.2f}\")"
   ]
  },
  {
   "cell_type": "markdown",
   "id": "d996d0b4",
   "metadata": {},
   "source": [
    "## 🔝 Step 4: Top 5 Products by Revenue"
   ]
  },
  {
   "cell_type": "code",
   "execution_count": 22,
   "id": "ef78df63",
   "metadata": {},
   "outputs": [
    {
     "data": {
      "text/plain": [
       "array([4, 6, 7, 1, 0], dtype=int64)"
      ]
     },
     "execution_count": 22,
     "metadata": {},
     "output_type": "execute_result"
    }
   ],
   "source": [
    "top_indices = np.argsort(revenues)[-5:][::-1]\n",
    "top_indices"
   ]
  },
  {
   "cell_type": "code",
   "execution_count": 23,
   "id": "bba42c05",
   "metadata": {},
   "outputs": [
    {
     "name": "stdout",
     "output_type": "stream",
     "text": [
      "Organic Fertilizer: ₹4800.00\n",
      "Cactus: ₹3600.00\n",
      "Compost Bag: ₹3150.00\n",
      "Shovel: ₹2850.00\n",
      "Rose Plant: ₹2700.00\n"
     ]
    }
   ],
   "source": [
    "for i in top_indices:\n",
    "    print(f\"{product_names[i]}: ₹{revenues[i]:.2f}\")"
   ]
  },
  {
   "cell_type": "code",
   "execution_count": 26,
   "id": "efdd1498",
   "metadata": {},
   "outputs": [
    {
     "data": {
      "text/plain": [
       "array(['Organic Fertilizer', 'Cactus', 'Compost Bag', 'Shovel',\n",
       "       'Rose Plant'], dtype='<U18')"
      ]
     },
     "execution_count": 26,
     "metadata": {},
     "output_type": "execute_result"
    }
   ],
   "source": [
    "product_names[top_indices]"
   ]
  },
  {
   "cell_type": "markdown",
   "id": "3da828e3",
   "metadata": {},
   "source": [
    "## 📊 Step 5: Average Revenue by Category"
   ]
  },
  {
   "cell_type": "code",
   "execution_count": 28,
   "id": "978dcf9f",
   "metadata": {},
   "outputs": [
    {
     "name": "stdout",
     "output_type": "stream",
     "text": [
      "Fertilizer: ₹3975.00\n",
      "Plant: ₹2933.33\n",
      "Tool: ₹1896.67\n"
     ]
    }
   ],
   "source": [
    "unique_categories = np.unique(categories)\n",
    "for cat in unique_categories:\n",
    "    mask = categories == cat\n",
    "    avg = revenues[mask].mean()\n",
    "    print(f\"{cat}: ₹{avg:.2f}\")"
   ]
  },
  {
   "cell_type": "markdown",
   "id": "cba9192e",
   "metadata": {},
   "source": [
    "## ⚠️ Step 6: Identify Low Stock Products (Stock < 10)"
   ]
  },
  {
   "cell_type": "code",
   "execution_count": 30,
   "id": "05e7131b",
   "metadata": {},
   "outputs": [
    {
     "name": "stdout",
     "output_type": "stream",
     "text": [
      "Rose Plant - Stock Left: 5\n",
      "Tulip Bulbs - Stock Left: 8\n",
      "Organic Fertilizer - Stock Left: 6\n",
      "Cactus - Stock Left: 9\n",
      "Compost Bag - Stock Left: 7\n"
     ]
    }
   ],
   "source": [
    "for i in range(len(stock_left)):\n",
    "    if stock_left[i] < 10:\n",
    "        print(f\"{product_names[i]} - Stock Left: {stock_left[i]}\")"
   ]
  },
  {
   "cell_type": "markdown",
   "id": "f8f390e4",
   "metadata": {},
   "source": [
    "## 📈 Step 7: Correlation Between Discount and Quantity Sold"
   ]
  },
  {
   "cell_type": "code",
   "execution_count": 32,
   "id": "e6214ab0",
   "metadata": {},
   "outputs": [
    {
     "name": "stdout",
     "output_type": "stream",
     "text": [
      "Correlation between Discount and Quantity Sold: -0.44\n"
     ]
    }
   ],
   "source": [
    "corr = np.corrcoef(discounts, quantities)[0, 1]\n",
    "print(f\"Correlation between Discount and Quantity Sold: {corr:.2f}\")"
   ]
  },
  {
   "cell_type": "markdown",
   "id": "a5bc0e5c",
   "metadata": {},
   "source": [
    "## ✅ Summary & Conclusion\n",
    "\n",
    "This notebook successfully:\n",
    "- Performed NumPy-only analysis\n",
    "- Identified top products by revenue\n",
    "- Grouped revenue by product category\n",
    "- Flagged low stock products\n",
    "- Analyzed discount impact"
   ]
  }
 ],
 "metadata": {
  "kernelspec": {
   "display_name": "Python 3 (ipykernel)",
   "language": "python",
   "name": "python3"
  },
  "language_info": {
   "codemirror_mode": {
    "name": "ipython",
    "version": 3
   },
   "file_extension": ".py",
   "mimetype": "text/x-python",
   "name": "python",
   "nbconvert_exporter": "python",
   "pygments_lexer": "ipython3",
   "version": "3.9.7"
  }
 },
 "nbformat": 4,
 "nbformat_minor": 5
}
